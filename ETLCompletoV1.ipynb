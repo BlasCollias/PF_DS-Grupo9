{
 "cells": [
  {
   "cell_type": "markdown",
   "metadata": {},
   "source": [
    "junto aca todos los ETL: \n",
    "\n"
   ]
  },
  {
   "cell_type": "code",
   "execution_count": 1,
   "metadata": {},
   "outputs": [],
   "source": [
    "import pandas as pd\n",
    "#import numpy as np\n",
    "import pandas_profiling\n"
   ]
  },
  {
   "cell_type": "markdown",
   "metadata": {},
   "source": [
    "PUEDE FALTAR NORMALIZACION DE STRINGS TIPO: Sao Paulo, sao paulo... VER!"
   ]
  },
  {
   "cell_type": "code",
   "execution_count": 2,
   "metadata": {},
   "outputs": [],
   "source": [
    "#aca hay q ver como los consume el PIPELINE: \n",
    "\n",
    "#carga de archivos como dfs.\n",
    "df_olist_closed_list = pd.read_csv('Datasets/olist_closed_deals_dataset.csv')\n",
    "df_customers_datasets = pd.read_csv('Datasets/olist_customers_dataset.csv')\n",
    "df_olist_geolocation_dataset = pd.read_csv('Datasets/olist_geolocation_dataset.csv')\n",
    "df_olist_marketing_qualified_leads_dataset = pd.read_csv('Datasets/olist_marketing_qualified_leads_dataset.csv')\n",
    "df_olist_order_items_dataset = pd.read_csv('Datasets/olist_order_items_dataset.csv')\n",
    "df_olist_order_payments_dataset = pd.read_csv('Datasets/olist_order_payments_dataset.csv')\n",
    "df_olist_order_reviews_dataset = pd.read_csv('Datasets/olist_order_reviews_dataset.csv')\n",
    "df_olist_orders_dataset = pd.read_csv('Datasets/olist_orders_dataset.csv')\n",
    "df_olist_products_dataset = pd.read_csv('Datasets/olist_products_dataset.csv')\n",
    "df_olist_sellers_dataset = pd.read_csv('Datasets/olist_sellers_dataset.csv')\n",
    "df_product_category_name_translation = pd.read_csv('Datasets/product_category_name_translation.csv')"
   ]
  },
  {
   "cell_type": "code",
   "execution_count": 3,
   "metadata": {},
   "outputs": [],
   "source": [
    "#df1 'df_olist_closed_list':\n",
    "df_olist_closed_list=df_olist_closed_list.drop_duplicates()\n",
    "\n",
    "#SON SIGNIFICADOS UNIVERSALES! ver si llegamos a utilizarlo en el analisis!\n",
    "df_olist_closed_list = df_olist_closed_list.drop(['lead_behaviour_profile'], axis = 1)\n",
    "\n",
    "#columnas con gran % de nulos: \n",
    "df_olist_closed_list=df_olist_closed_list.drop(['declared_product_catalog_size', 'has_company', 'has_gtin', 'average_stock'], axis = 1)\n",
    "\n",
    "#Cuenta con un 94.7% de ceros\n",
    "df_olist_closed_list=df_olist_closed_list.drop(['declared_monthly_revenue'], axis = 1)\n",
    "\n",
    "#Cambio el tipo de dato a datetime\n",
    "df_olist_closed_list['won_date'] = pd.to_datetime(df_olist_closed_list['won_date'])\n",
    "\n",
    "df_olist_closed_list['business_segment'] = df_olist_closed_list['business_segment'].astype('string')\n",
    "#Cambio el tipo a string\n",
    "\n",
    "df_olist_closed_list['lead_type'] = df_olist_closed_list['lead_type'].astype('string')\n",
    "\n",
    "df_olist_closed_list['business_type'] = df_olist_closed_list['business_type'].astype('string')\n"
   ]
  },
  {
   "cell_type": "code",
   "execution_count": 4,
   "metadata": {},
   "outputs": [],
   "source": [
    "#df2 'df_customers_datasets':\n",
    "df_customers_datasets.drop_duplicates()\n",
    "\n",
    "#VER! si hace falta p algun kpi. Desconocemos realmente significado. \n",
    "df_customers_datasets = df_customers_datasets.drop('customer_unique_id', axis = 1)\n",
    "\n",
    "df_customers_datasets['customer_zip_code_prefix'] = df_customers_datasets['customer_zip_code_prefix'].astype('int64')\n",
    "\n",
    "df_customers_datasets['customer_city'] = df_customers_datasets['customer_city'].astype('string')\n",
    "\n",
    "df_customers_datasets['customer_state'] = df_customers_datasets['customer_state'].astype('string')"
   ]
  },
  {
   "cell_type": "code",
   "execution_count": 5,
   "metadata": {},
   "outputs": [],
   "source": [
    "#df3 'df_olist_geolocation_dataset':\n",
    "df_olist_geolocation_dataset.drop_duplicates()\n",
    "\n",
    "#ACA FALTA ACOTAR ! VER MAX Y MIN DE LAT LONG BRASIL!\n",
    "\n",
    "#Cambio el tipo de dato a string\n",
    "df_olist_geolocation_dataset['geolocation_city'] = df_olist_geolocation_dataset['geolocation_city'].astype('string')\n",
    "df_olist_geolocation_dataset['geolocation_state'] = df_olist_geolocation_dataset['geolocation_state'].astype('string')\n",
    "\n",
    "# Al visualizar rapidamente con PBI, notamos que muchas geolocalizciones estan fuera del territorio brasilero. Las descartamos al \n",
    "#acotarlas con datos de la web sobre limites: (ojo puede 'quedar alguna!', sino ver bookmark API zipcodes brazil)\n",
    "\n",
    "#most Northern spot is at 5 deg 16′ 27.8″ N lat:\n",
    "df_olist_geolocation_dataset = df_olist_geolocation_dataset[df_olist_geolocation_dataset.geolocation_lat <= 5.27438888]\n",
    "#most Western spot is at 73 deg, 58′ 58.19″W Long:\n",
    "df_olist_geolocation_dataset = df_olist_geolocation_dataset[df_olist_geolocation_dataset.geolocation_lng >= -73.98283055]\n",
    "#most southern spot is at 33 deg, 45′ 04.21″ S Lat:\n",
    "df_olist_geolocation_dataset = df_olist_geolocation_dataset[df_olist_geolocation_dataset.geolocation_lat >= -33.75116944]\n",
    "#most Eastern spot is 34 deg, 47′ 35.33″ W Long:\n",
    "df_olist_geolocation_dataset = df_olist_geolocation_dataset[df_olist_geolocation_dataset.geolocation_lng <=  -34.79314722]\n",
    "\n"
   ]
  },
  {
   "cell_type": "code",
   "execution_count": 6,
   "metadata": {},
   "outputs": [],
   "source": [
    "#df4 'df_olist_marketing_qualified_leads_dataset':\n",
    "df_olist_marketing_qualified_leads_dataset.drop_duplicates()\n",
    "\n",
    "#Cambio el tipo de dato a datetime\n",
    "df_olist_marketing_qualified_leads_dataset['first_contact_date'] = pd.to_datetime(df_olist_marketing_qualified_leads_dataset['first_contact_date'])\n",
    "\n",
    "#Cambio el tipo de dato a string\n",
    "df_olist_marketing_qualified_leads_dataset['origin'] = df_olist_marketing_qualified_leads_dataset['origin'].astype('string')\n",
    "\n",
    "#df_olist_marketing_qualified_leads_dataset[\"origin\"].fillna(\"No info\", inplace = True)\n"
   ]
  },
  {
   "cell_type": "code",
   "execution_count": 7,
   "metadata": {},
   "outputs": [],
   "source": [
    "#df5 'df_olist_order_items_dataset':\n",
    "\n",
    "df_olist_order_items_dataset.drop_duplicates()\n",
    "#cambio tipos de dato: \n",
    "df_olist_order_items_dataset['price'] = df_olist_order_items_dataset['price'].astype('float')\n",
    "df_olist_order_items_dataset['freight_value'] = df_olist_order_items_dataset['freight_value'].astype('float')\n",
    "df_olist_order_items_dataset['shipping_limit_date'] = pd.to_datetime(df_olist_order_items_dataset['shipping_limit_date'])\n"
   ]
  },
  {
   "cell_type": "code",
   "execution_count": 8,
   "metadata": {},
   "outputs": [],
   "source": [
    "#df6 'df_olist_order_payments_dataset':\n",
    "\n",
    "#Origen de ip_order (cruzado con df_olist_order_items_dataset, df_olist_order_reviews_dataset, df_olist_orders_dataset)\n",
    "df_olist_order_payments_dataset.drop_duplicates()\n",
    "#cambio tipo dato:\n",
    "df_olist_order_payments_dataset['payment_type'] = df_olist_order_payments_dataset['payment_type'].astype('string')"
   ]
  },
  {
   "cell_type": "code",
   "execution_count": 9,
   "metadata": {},
   "outputs": [],
   "source": [
    "#df7: 'df_olist_order_reviews_dataset'.\n",
    "\n",
    "#borro duplicados si los hubiera: \n",
    "df_olist_order_reviews_dataset.drop_duplicates()\n",
    "\n",
    "#columnas que no necesitamos: \n",
    "\n",
    "#'review_comment_title': 88.3% missing values! Por mas de presentar mayoria de falatantes. por ahora la dejo. \n",
    "\n",
    "#'review_comment_message': 58.7% missing!. igualmente, sirve para analisis sentimiento!\n",
    "\n",
    "#'review_answer_timestamp' no aporta informacion relevante: CONSERVO: 'review_creation_date'. IGUAL PUEDE NO SER RELEVANTE. \n",
    "df_olist_order_reviews_dataset.drop(['review_answer_timestamp'], axis = 1, inplace=True)\n",
    "\n",
    "\n",
    "#CHECK Y CAMBIO DE TIPOS DE DATO: \n",
    "# 'review_score': ya es int!\n",
    "\n",
    "#df_olist_order_reviews_dataset=df_olist_order_reviews_dataset.astype({'review_score':int})\n",
    "\n",
    "# tiro los duplicados de 'review_id', y 'order_id'. Del EDA se concluye corresponden a mismo review, enviado dos veces o simil. \n",
    "# no represntan gran porcentaje del total (99.2% unique y 99.4% unique respectivamente. )\n",
    "df_olist_order_reviews_dataset.drop_duplicates(subset='review_id', keep=\"first\", inplace=True)\n",
    "df_olist_order_reviews_dataset.drop_duplicates(subset='order_id', keep=\"first\", inplace=True)\n",
    "\n",
    "\n",
    "#PARA MODELO ML: VER: Quedarme solo con los no nulos en 'review_comment_message' y 'review_comment_title'.\n",
    "#from deep_translator import GoogleTranslator\n",
    "# NO ACEPTA NULOS! PARA EL ML, hacer nueva tabla sin los nulos. y luego traducir!\n",
    "#traductor = GoogleTranslator(source='pt', target='es')\n",
    "#df_olist_order_reviews_dataset['review_title_espaniol']=df_olist_order_reviews_dataset.review_comment_title.apply(lambda x: traductor.translate(x))\n",
    "\n"
   ]
  },
  {
   "cell_type": "code",
   "execution_count": 10,
   "metadata": {},
   "outputs": [],
   "source": [
    "#df8: 'df_olist_orders_dataset'.\n",
    "\n",
    "#Borramos duplicados,\n",
    "# no borramos columnas porque todas nos van a ser de utilidad para el análisis.\n",
    "df_olist_orders_dataset = df_olist_orders_dataset.drop_duplicates()\n",
    "\n",
    "#VER SI HACE FALTA: \n",
    "#df_olist_orders_dataset.fillna('Sin Dato', inplace=True)\n",
    "\n",
    "#Convertimos el tipo de dato a datetime de las columnas de fechas que estaban como 'object':\n",
    "#ORDENAR CODIGO PARA Q SEA EN UNA LINEA CON UNA LISTA!\n",
    "df_olist_orders_dataset['order_purchase_timestamp'] = pd.to_datetime(df_olist_orders_dataset['order_purchase_timestamp'])\n",
    "df_olist_orders_dataset['order_approved_at'] = pd.to_datetime(df_olist_orders_dataset['order_approved_at'],errors='coerce')\n",
    "df_olist_orders_dataset['order_delivered_carrier_date'] = pd.to_datetime(df_olist_orders_dataset['order_delivered_carrier_date'],errors='coerce')\n",
    "df_olist_orders_dataset['order_delivered_customer_date'] = pd.to_datetime(df_olist_orders_dataset['order_delivered_customer_date'],errors='coerce')\n",
    "df_olist_orders_dataset['order_estimated_delivery_date'] = pd.to_datetime(df_olist_orders_dataset['order_estimated_delivery_date'])\n",
    "df_olist_orders_dataset['order_status'] = df_olist_orders_dataset['order_status'].astype(str)\n",
    "\n",
    "#PARA VIZ, DELIVERY TIME: adaptar!\n",
    "#orders['actual_delivery_time'] = orders.order_delivered_customer_date - orders.order_delivered_carrier_date\n",
    "#rders['actual_delivery_time'] = orders['actual_delivery_time'].dt.days\n",
    "\n"
   ]
  },
  {
   "cell_type": "code",
   "execution_count": 11,
   "metadata": {},
   "outputs": [],
   "source": [
    "#df9 'df_olist_products_dataset':\n",
    "\n",
    "df_olist_products_dataset = df_olist_products_dataset.drop_duplicates()\n",
    "\n",
    "df_olist_products_dataset=df_olist_products_dataset.drop(['product_name_lenght','product_description_lenght','product_photos_qty'], axis = 1)\n"
   ]
  },
  {
   "cell_type": "code",
   "execution_count": 12,
   "metadata": {},
   "outputs": [
    {
     "data": {
      "text/plain": [
       "portateis_cozinha_e_preparadores_de_alimentos    10\n",
       "pc_gamer                                          3\n",
       "Name: product_category_name, dtype: int64"
      ]
     },
     "execution_count": 12,
     "metadata": {},
     "output_type": "execute_result"
    }
   ],
   "source": [
    "# Hay dos categorias de productos que no tienen su traduccion (unique diferia en 2, 71 y 73 valores al hacer el EDA)\n",
    "#identifico: \n",
    "df_olist_products_dataset[~df_olist_products_dataset['product_category_name'].isin(df_product_category_name_translation['product_category_name'].unique())]['product_category_name'].value_counts()\n",
    "\n",
    "#Output: \n",
    "#portateis_cozinha_e_preparadores_de_alimentos    10\n",
    "#pc_gamer                                          3\n",
    "#Name: product_category_name, dtype: int64\n",
    "\n",
    "#portateis_cozinha_e_preparadores_de_alimentos english translation: is kitchen_laptops_and_food_preparators\n",
    "#pc_gamer: pc_gamer.\n",
    "\n",
    "#los agrego en la celda de df11, 'traducciones'.\n",
    "\n"
   ]
  },
  {
   "cell_type": "code",
   "execution_count": null,
   "metadata": {},
   "outputs": [],
   "source": [
    "#df10 'df_olist_sellers_dataset':\n",
    "df_olist_sellers_dataset=df_olist_sellers_dataset.drop_duplicates()\n",
    "\n",
    "#FALTA CHECKEAR NORMALIZAR POR MINUSCULAS/MAYUSCULAS??"
   ]
  },
  {
   "cell_type": "code",
   "execution_count": 13,
   "metadata": {},
   "outputs": [
    {
     "name": "stderr",
     "output_type": "stream",
     "text": [
      "/var/folders/tf/dsk90f9d14gcg40_frclnb7r0000gn/T/ipykernel_35754/1832352030.py:7: FutureWarning: The frame.append method is deprecated and will be removed from pandas in a future version. Use pandas.concat instead.\n",
      "  df_product_category_name_translation = df_product_category_name_translation.append(adding_trans)\n"
     ]
    }
   ],
   "source": [
    "#df11 'df_product_category_name_translation':\n",
    "\n",
    "#primero le agrego las dos que faltaban: \n",
    "traducciones = pd.DataFrame(data = {'product_category_name': ['portateis_cozinha_e_preparadores_de_alimentos', 'pc_gamer'],\n",
    "                                    'product_category_name_english': ['kitchen_laptops_and_food_preparators', 'pc_gamer']},\n",
    "                                    index = [71, 72])\n",
    "df_product_category_name_translation = df_product_category_name_translation.append(traducciones)\n",
    "#df_product_category_name_translation.tail(2)\n",
    "#OUTPUT: \n",
    "#product_category_name\tproduct_category_name_english\n",
    "#71\tportateis_cozinha_e_preparadores_de_alimentos\tkitchen_laptops_and_food_preparators\n",
    "#72\tpc_gamer\tpc_gamer\n",
    "\n",
    "#hago un MERGE con tabla de productos para que ya quede todo en ingles, descarto la col en portugues, \n",
    "# y la renombro: OJO VER CARGAS INCREMENTALES FALLA???!\n",
    "df_olist_products_dataset = pd.merge(df_olist_products_dataset,df_product_category_name_translation,on=\"product_category_name\")\n",
    "df_olist_products_dataset.drop(\"product_category_name\",inplace=True,axis=1)\n",
    "df_olist_products_dataset.rename(columns={\"product_category_name_english\":\"product_category_name\"},inplace=True)"
   ]
  },
  {
   "cell_type": "code",
   "execution_count": 15,
   "metadata": {},
   "outputs": [],
   "source": [
    "#df_olist_products_dataset.head()"
   ]
  },
  {
   "cell_type": "code",
   "execution_count": null,
   "metadata": {},
   "outputs": [],
   "source": []
  }
 ],
 "metadata": {
  "kernelspec": {
   "display_name": "Python 3.9.6 64-bit",
   "language": "python",
   "name": "python3"
  },
  "language_info": {
   "codemirror_mode": {
    "name": "ipython",
    "version": 3
   },
   "file_extension": ".py",
   "mimetype": "text/x-python",
   "name": "python",
   "nbconvert_exporter": "python",
   "pygments_lexer": "ipython3",
   "version": "3.9.6"
  },
  "orig_nbformat": 4,
  "vscode": {
   "interpreter": {
    "hash": "31f2aee4e71d21fbe5cf8b01ff0e069b9275f58929596ceb00d14d90e3e16cd6"
   }
  }
 },
 "nbformat": 4,
 "nbformat_minor": 2
}
