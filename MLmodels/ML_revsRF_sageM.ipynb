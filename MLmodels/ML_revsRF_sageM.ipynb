{
 "cells": [
  {
   "cell_type": "code",
   "execution_count": 1,
   "id": "66dbc172-73b6-48b3-9a72-37877e445cc7",
   "metadata": {},
   "outputs": [
    {
     "name": "stdout",
     "output_type": "stream",
     "text": [
      "Looking in indexes: https://pypi.org/simple, https://pip.repos.neuron.amazonaws.com\n",
      "Requirement already satisfied: redshift_connector in /home/ec2-user/anaconda3/envs/python3/lib/python3.10/site-packages (2.0.910)\n",
      "Requirement already satisfied: setuptools in /home/ec2-user/anaconda3/envs/python3/lib/python3.10/site-packages (from redshift_connector) (65.5.0)\n",
      "Requirement already satisfied: beautifulsoup4<5.0.0,>=4.7.0 in /home/ec2-user/anaconda3/envs/python3/lib/python3.10/site-packages (from redshift_connector) (4.11.1)\n",
      "Requirement already satisfied: requests<3.0.0,>=2.23.0 in /home/ec2-user/anaconda3/envs/python3/lib/python3.10/site-packages (from redshift_connector) (2.28.1)\n",
      "Requirement already satisfied: scramp<1.5.0,>=1.2.0 in /home/ec2-user/anaconda3/envs/python3/lib/python3.10/site-packages (from redshift_connector) (1.4.4)\n",
      "Requirement already satisfied: lxml>=4.6.5 in /home/ec2-user/anaconda3/envs/python3/lib/python3.10/site-packages (from redshift_connector) (4.9.2)\n",
      "Requirement already satisfied: boto3<2.0.0,>=1.9.201 in /home/ec2-user/anaconda3/envs/python3/lib/python3.10/site-packages (from redshift_connector) (1.26.44)\n",
      "Requirement already satisfied: packaging in /home/ec2-user/anaconda3/envs/python3/lib/python3.10/site-packages (from redshift_connector) (21.3)\n",
      "Requirement already satisfied: pytz>=2020.1 in /home/ec2-user/anaconda3/envs/python3/lib/python3.10/site-packages (from redshift_connector) (2022.5)\n",
      "Requirement already satisfied: botocore<2.0.0,>=1.12.201 in /home/ec2-user/anaconda3/envs/python3/lib/python3.10/site-packages (from redshift_connector) (1.29.59)\n",
      "Requirement already satisfied: soupsieve>1.2 in /home/ec2-user/anaconda3/envs/python3/lib/python3.10/site-packages (from beautifulsoup4<5.0.0,>=4.7.0->redshift_connector) (2.3.2.post1)\n",
      "Requirement already satisfied: jmespath<2.0.0,>=0.7.1 in /home/ec2-user/anaconda3/envs/python3/lib/python3.10/site-packages (from boto3<2.0.0,>=1.9.201->redshift_connector) (0.10.0)\n",
      "Requirement already satisfied: s3transfer<0.7.0,>=0.6.0 in /home/ec2-user/anaconda3/envs/python3/lib/python3.10/site-packages (from boto3<2.0.0,>=1.9.201->redshift_connector) (0.6.0)\n",
      "Requirement already satisfied: urllib3<1.27,>=1.25.4 in /home/ec2-user/anaconda3/envs/python3/lib/python3.10/site-packages (from botocore<2.0.0,>=1.12.201->redshift_connector) (1.26.8)\n",
      "Requirement already satisfied: python-dateutil<3.0.0,>=2.1 in /home/ec2-user/anaconda3/envs/python3/lib/python3.10/site-packages (from botocore<2.0.0,>=1.12.201->redshift_connector) (2.8.2)\n",
      "Requirement already satisfied: charset-normalizer<3,>=2 in /home/ec2-user/anaconda3/envs/python3/lib/python3.10/site-packages (from requests<3.0.0,>=2.23.0->redshift_connector) (2.1.1)\n",
      "Requirement already satisfied: certifi>=2017.4.17 in /home/ec2-user/anaconda3/envs/python3/lib/python3.10/site-packages (from requests<3.0.0,>=2.23.0->redshift_connector) (2022.9.24)\n",
      "Requirement already satisfied: idna<4,>=2.5 in /home/ec2-user/anaconda3/envs/python3/lib/python3.10/site-packages (from requests<3.0.0,>=2.23.0->redshift_connector) (3.4)\n",
      "Requirement already satisfied: asn1crypto>=1.5.1 in /home/ec2-user/anaconda3/envs/python3/lib/python3.10/site-packages (from scramp<1.5.0,>=1.2.0->redshift_connector) (1.5.1)\n",
      "Requirement already satisfied: pyparsing!=3.0.5,>=2.0.2 in /home/ec2-user/anaconda3/envs/python3/lib/python3.10/site-packages (from packaging->redshift_connector) (3.0.9)\n",
      "Requirement already satisfied: six>=1.5 in /home/ec2-user/anaconda3/envs/python3/lib/python3.10/site-packages (from python-dateutil<3.0.0,>=2.1->botocore<2.0.0,>=1.12.201->redshift_connector) (1.16.0)\n",
      "Note: you may need to restart the kernel to use updated packages.\n"
     ]
    }
   ],
   "source": [
    "pip install redshift_connector"
   ]
  },
  {
   "cell_type": "code",
   "execution_count": 2,
   "id": "50772e4a",
   "metadata": {},
   "outputs": [],
   "source": [
    "import redshift_connector\n",
    "import pandas as pd\n",
    "\n",
    "conn = redshift_connector.connect(\n",
    "     host='redshift-cluster-1.cpop3m8tfd5a.us-east-1.redshift.amazonaws.com',\n",
    "     database='olistdb',\n",
    "     port=5439,\n",
    "     user='awsuser',\n",
    "     password='JldMVsOw&7xL'\n",
    "  )\n",
    "\n",
    "cursor = conn.cursor()\n",
    "\n",
    "with conn.cursor() as cursor:\n",
    "    cursor.execute(\"SELECT review_id, order_id, review_score, review_comment_message FROM \\\"olistdb\\\".\\\"public\\\".\\\"order_reviews\\\";\")\n",
    "    Review: pd.DataFrame = cursor.fetch_dataframe()\n",
    "\n",
    "cursor.close()\n",
    "conn.close()"
   ]
  },
  {
   "cell_type": "code",
   "execution_count": 3,
   "id": "71d33332",
   "metadata": {},
   "outputs": [
    {
     "name": "stderr",
     "output_type": "stream",
     "text": [
      "[nltk_data] Downloading package stopwords to\n",
      "[nltk_data]     /home/ec2-user/nltk_data...\n",
      "[nltk_data]   Unzipping corpora/stopwords.zip.\n",
      "[nltk_data] Downloading package rslp to /home/ec2-user/nltk_data...\n",
      "[nltk_data]   Unzipping stemmers/rslp.zip.\n"
     ]
    }
   ],
   "source": [
    "import numpy as np\n",
    "import pandas as pd\n",
    "import re\n",
    "import nltk\n",
    "from nltk.corpus import stopwords\n",
    "nltk.download('stopwords')\n",
    "from nltk.stem import RSLPStemmer\n",
    "nltk.download('rslp')\n",
    "from sklearn.feature_extraction.text import CountVectorizer\n",
    "from sklearn.model_selection import train_test_split, GridSearchCV, RandomizedSearchCV, cross_val_score, cross_validate\n",
    "from sklearn.preprocessing import MinMaxScaler\n",
    "from sklearn.neighbors import KNeighborsClassifier\n",
    "from sklearn.metrics import accuracy_score, recall_score, confusion_matrix, classification_report"
   ]
  },
  {
   "cell_type": "code",
   "execution_count": 4,
   "id": "b5f3b7cd",
   "metadata": {},
   "outputs": [],
   "source": [
    "Review.dropna(subset = 'review_comment_message', inplace= True)"
   ]
  },
  {
   "cell_type": "code",
   "execution_count": 5,
   "id": "fd54ab3e",
   "metadata": {},
   "outputs": [],
   "source": [
    "list_comment_message = Review['review_comment_message']"
   ]
  },
  {
   "cell_type": "code",
   "execution_count": 6,
   "id": "a973b764",
   "metadata": {},
   "outputs": [],
   "source": [
    "def remover_salto_de_linea(lista):\n",
    "    return [re.sub('[\\n\\r]', ' ', r) for r in lista]\n",
    "list_comment_message = remover_salto_de_linea(Review['review_comment_message'])\n",
    "Review['review_comment_message'] = list_comment_message"
   ]
  },
  {
   "cell_type": "code",
   "execution_count": 7,
   "id": "0fb00107",
   "metadata": {},
   "outputs": [],
   "source": [
    "def remover_links(lista):\n",
    "    pattern = 'http[s]?://(?:[a-zA-Z]|[0-9]|[$-_@.&+]|[!*\\(\\),]|(?:%[0-9a-fA-F][0-9a-fA-F]))+'\n",
    "    return [re.sub(pattern, ' link ', r) for r in lista]\n",
    "list_comment_message = remover_links(Review['review_comment_message'])\n",
    "Review['review_comment_message'] = list_comment_message"
   ]
  },
  {
   "cell_type": "code",
   "execution_count": 8,
   "id": "98419436",
   "metadata": {},
   "outputs": [],
   "source": [
    "def remover_fecha(lista):\n",
    "    pattern = '([0-2][0-9]|(3)[0-1])(\\/|\\.)(((0)[0-9])|((1)[0-2]))(\\/|\\.)\\d{2,4}'\n",
    "    return [re.sub(pattern, ' date ', r) for r in lista]\n",
    "list_comment_message = remover_fecha(Review['review_comment_message'])\n",
    "Review['review_comment_message'] = list_comment_message"
   ]
  },
  {
   "cell_type": "code",
   "execution_count": 9,
   "id": "138ecbcd",
   "metadata": {},
   "outputs": [],
   "source": [
    "def remover_moneda(lista):\n",
    "    pattern = '[R]{0,1}\\$[ ]{0,}\\d+(,|\\.)\\d+'\n",
    "    return [re.sub(pattern, ' money ', r) for r in lista]\n",
    "list_comment_message = remover_moneda(Review['review_comment_message'])\n",
    "Review['review_comment_message'] = list_comment_message"
   ]
  },
  {
   "cell_type": "code",
   "execution_count": 10,
   "id": "c8ff366f",
   "metadata": {},
   "outputs": [],
   "source": [
    "def remover_numeros(lista):\n",
    "    return [re.sub('[0-9]+', ' number ', r) for r in lista]\n",
    "list_comment_message = remover_numeros(Review['review_comment_message'])\n",
    "Review['review_comment_message'] = list_comment_message"
   ]
  },
  {
   "cell_type": "code",
   "execution_count": 11,
   "id": "bae73e99",
   "metadata": {},
   "outputs": [],
   "source": [
    "def remover_caracter_especial(lista):\n",
    "    return [re.sub('\\W', ' ', r) for r in lista]\n",
    "list_comment_message = remover_caracter_especial(Review['review_comment_message'])\n",
    "Review['review_comment_message'] = list_comment_message"
   ]
  },
  {
   "cell_type": "code",
   "execution_count": 12,
   "id": "d689c9ca",
   "metadata": {},
   "outputs": [],
   "source": [
    "def remover_espacios(text_list):\n",
    "    white_spaces = [re.sub('\\s+', ' ', r) for r in text_list]\n",
    "    white_spaces_end = [re.sub('[ \\t]+$', '', r) for r in white_spaces]\n",
    "    return white_spaces_end\n",
    "list_comment_message = remover_espacios(Review['review_comment_message'])\n",
    "Review['review_comment_message'] = list_comment_message"
   ]
  },
  {
   "cell_type": "code",
   "execution_count": 13,
   "id": "9dd5aaf2",
   "metadata": {},
   "outputs": [],
   "source": [
    "def remover_stopworlds(texto):\n",
    "    return [c.lower() for c in texto.split() if c.lower() not in stopwords.words('portuguese')]\n",
    "\n",
    "list_comment_message = [' '.join(remover_stopworlds(review)) for review in list_comment_message]\n",
    "Review['review_comment_message'] = list_comment_message"
   ]
  },
  {
   "cell_type": "code",
   "execution_count": 14,
   "id": "2ce9245d",
   "metadata": {},
   "outputs": [],
   "source": [
    "def Busco_palabra_raiz(texto):\n",
    "    stemmer=RSLPStemmer()\n",
    "    return [stemmer.stem(c) for c in texto.split()]\n",
    "    \n",
    "list_comment_message = [' '.join(Busco_palabra_raiz(review)) for review in list_comment_message]\n",
    "Review['review_comment_message']  = list_comment_message"
   ]
  },
  {
   "cell_type": "code",
   "execution_count": 15,
   "id": "36969a06",
   "metadata": {},
   "outputs": [],
   "source": [
    "count_vectorizer = CountVectorizer(max_features=500,max_df=0.7, min_df=7)"
   ]
  },
  {
   "cell_type": "code",
   "execution_count": 16,
   "id": "0e8cd35e",
   "metadata": {},
   "outputs": [],
   "source": [
    "bag_of_words = count_vectorizer.fit_transform(list_comment_message)"
   ]
  },
  {
   "cell_type": "code",
   "execution_count": 17,
   "id": "ccff02e1",
   "metadata": {},
   "outputs": [
    {
     "name": "stderr",
     "output_type": "stream",
     "text": [
      "/home/ec2-user/anaconda3/envs/python3/lib/python3.10/site-packages/sklearn/utils/deprecation.py:87: FutureWarning: Function get_feature_names is deprecated; get_feature_names is deprecated in 1.0 and will be removed in 1.2. Please use get_feature_names_out instead.\n",
      "  warnings.warn(msg, category=FutureWarning)\n"
     ]
    }
   ],
   "source": [
    "feature_names = count_vectorizer.get_feature_names()"
   ]
  },
  {
   "cell_type": "code",
   "execution_count": 18,
   "id": "dcf32214",
   "metadata": {},
   "outputs": [],
   "source": [
    "Vectorizado_message = pd.DataFrame(bag_of_words.toarray(), columns = feature_names)"
   ]
  },
  {
   "cell_type": "code",
   "execution_count": 19,
   "id": "8be3be10",
   "metadata": {},
   "outputs": [],
   "source": [
    "Review.reset_index(drop = True, inplace=True)"
   ]
  },
  {
   "cell_type": "code",
   "execution_count": 20,
   "id": "76775310",
   "metadata": {},
   "outputs": [],
   "source": [
    "score0y1=[]\n",
    "for row in Review['review_score']:\n",
    "    if row in (4,5): score0y1.append(1)\n",
    "    else: score0y1.append(0)\n",
    "# la reescribo como la discreta, y entonces no tengo q cambiar nada de codigo abajo. \n",
    "Review['review_score']=score0y1"
   ]
  },
  {
   "cell_type": "code",
   "execution_count": 21,
   "id": "41e5a714",
   "metadata": {},
   "outputs": [],
   "source": [
    "Dataframe_final = Vectorizado_message.join(Review['review_score'])"
   ]
  },
  {
   "cell_type": "code",
   "execution_count": 22,
   "id": "a7bb84dd",
   "metadata": {},
   "outputs": [],
   "source": [
    "X_1_0 = Dataframe_final.drop('review_score', axis=1)\n",
    "y_1_0 = Dataframe_final['review_score']"
   ]
  },
  {
   "cell_type": "code",
   "execution_count": 23,
   "id": "fcc98be4",
   "metadata": {},
   "outputs": [],
   "source": [
    "X_train_1_0, X_test_1_0, y_train_1_0, y_test_1_0 = train_test_split(X_1_0, y_1_0, test_size = 0.3, random_state = 42)"
   ]
  },
  {
   "cell_type": "code",
   "execution_count": 24,
   "id": "08fefcfb",
   "metadata": {},
   "outputs": [
    {
     "name": "stdout",
     "output_type": "stream",
     "text": [
      "acc:  0.8656072798886286\n"
     ]
    }
   ],
   "source": [
    "from sklearn.ensemble import RandomForestClassifier\n",
    "\n",
    "rf = RandomForestClassifier(n_estimators = 50, random_state=42)\n",
    "rf.fit(X_train_1_0,y_train_1_0)\n",
    "print(\"acc: \",rf.score(X_test_1_0,y_test_1_0))"
   ]
  },
  {
   "cell_type": "code",
   "execution_count": 25,
   "id": "0237c680",
   "metadata": {},
   "outputs": [],
   "source": [
    "y_pred_rf=rf.predict(X_test_1_0)"
   ]
  },
  {
   "cell_type": "code",
   "execution_count": 26,
   "id": "3cbf5c6c",
   "metadata": {},
   "outputs": [],
   "source": [
    "df_y_pred_rf= pd.DataFrame(y_pred_rf)"
   ]
  },
  {
   "cell_type": "code",
   "execution_count": 27,
   "id": "6fccb25f",
   "metadata": {},
   "outputs": [
    {
     "data": {
      "text/html": [
       "<div>\n",
       "<style scoped>\n",
       "    .dataframe tbody tr th:only-of-type {\n",
       "        vertical-align: middle;\n",
       "    }\n",
       "\n",
       "    .dataframe tbody tr th {\n",
       "        vertical-align: top;\n",
       "    }\n",
       "\n",
       "    .dataframe thead th {\n",
       "        text-align: right;\n",
       "    }\n",
       "</style>\n",
       "<table border=\"1\" class=\"dataframe\">\n",
       "  <thead>\n",
       "    <tr style=\"text-align: right;\">\n",
       "      <th></th>\n",
       "      <th>0</th>\n",
       "    </tr>\n",
       "  </thead>\n",
       "  <tbody>\n",
       "    <tr>\n",
       "      <th>0</th>\n",
       "      <td>1</td>\n",
       "    </tr>\n",
       "    <tr>\n",
       "      <th>1</th>\n",
       "      <td>1</td>\n",
       "    </tr>\n",
       "    <tr>\n",
       "      <th>2</th>\n",
       "      <td>0</td>\n",
       "    </tr>\n",
       "    <tr>\n",
       "      <th>3</th>\n",
       "      <td>1</td>\n",
       "    </tr>\n",
       "    <tr>\n",
       "      <th>4</th>\n",
       "      <td>1</td>\n",
       "    </tr>\n",
       "    <tr>\n",
       "      <th>...</th>\n",
       "      <td>...</td>\n",
       "    </tr>\n",
       "    <tr>\n",
       "      <th>29446</th>\n",
       "      <td>1</td>\n",
       "    </tr>\n",
       "    <tr>\n",
       "      <th>29447</th>\n",
       "      <td>1</td>\n",
       "    </tr>\n",
       "    <tr>\n",
       "      <th>29448</th>\n",
       "      <td>1</td>\n",
       "    </tr>\n",
       "    <tr>\n",
       "      <th>29449</th>\n",
       "      <td>0</td>\n",
       "    </tr>\n",
       "    <tr>\n",
       "      <th>29450</th>\n",
       "      <td>0</td>\n",
       "    </tr>\n",
       "  </tbody>\n",
       "</table>\n",
       "<p>29451 rows × 1 columns</p>\n",
       "</div>"
      ],
      "text/plain": [
       "       0\n",
       "0      1\n",
       "1      1\n",
       "2      0\n",
       "3      1\n",
       "4      1\n",
       "...   ..\n",
       "29446  1\n",
       "29447  1\n",
       "29448  1\n",
       "29449  0\n",
       "29450  0\n",
       "\n",
       "[29451 rows x 1 columns]"
      ]
     },
     "execution_count": 27,
     "metadata": {},
     "output_type": "execute_result"
    }
   ],
   "source": [
    "df_y_pred_rf"
   ]
  },
  {
   "cell_type": "code",
   "execution_count": 28,
   "id": "34077e8a",
   "metadata": {},
   "outputs": [],
   "source": [
    "X_test_1_0_id = X_test_1_0.join(Review['review_id'])"
   ]
  },
  {
   "cell_type": "code",
   "execution_count": 29,
   "id": "378ded74",
   "metadata": {},
   "outputs": [],
   "source": [
    "X_test_1_0_id.reset_index(drop = True, inplace=True)\n",
    "df_y_pred_rf.reset_index(drop = True, inplace=True)\n",
    "df_rf_resultado = X_test_1_0_id.join(df_y_pred_rf[0])\n",
    "df_rf_resultado = df_rf_resultado[[0, 'review_id']]"
   ]
  },
  {
   "cell_type": "code",
   "execution_count": 30,
   "id": "22bb70ae",
   "metadata": {},
   "outputs": [
    {
     "data": {
      "text/html": [
       "<div>\n",
       "<style scoped>\n",
       "    .dataframe tbody tr th:only-of-type {\n",
       "        vertical-align: middle;\n",
       "    }\n",
       "\n",
       "    .dataframe tbody tr th {\n",
       "        vertical-align: top;\n",
       "    }\n",
       "\n",
       "    .dataframe thead th {\n",
       "        text-align: right;\n",
       "    }\n",
       "</style>\n",
       "<table border=\"1\" class=\"dataframe\">\n",
       "  <thead>\n",
       "    <tr style=\"text-align: right;\">\n",
       "      <th></th>\n",
       "      <th>0</th>\n",
       "      <th>review_id</th>\n",
       "    </tr>\n",
       "  </thead>\n",
       "  <tbody>\n",
       "    <tr>\n",
       "      <th>0</th>\n",
       "      <td>1</td>\n",
       "      <td>ca066ddee5978b04ecbd8b7155b21291</td>\n",
       "    </tr>\n",
       "    <tr>\n",
       "      <th>1</th>\n",
       "      <td>1</td>\n",
       "      <td>0e1059a405261feda792621aa2d0699a</td>\n",
       "    </tr>\n",
       "    <tr>\n",
       "      <th>2</th>\n",
       "      <td>0</td>\n",
       "      <td>99e00d2ab2ed39968f74115fbaabc561</td>\n",
       "    </tr>\n",
       "    <tr>\n",
       "      <th>3</th>\n",
       "      <td>1</td>\n",
       "      <td>4dbb0787588f28909efbc886f439aa59</td>\n",
       "    </tr>\n",
       "    <tr>\n",
       "      <th>4</th>\n",
       "      <td>1</td>\n",
       "      <td>c5489f52b234482f5e4a784c518b33c1</td>\n",
       "    </tr>\n",
       "    <tr>\n",
       "      <th>...</th>\n",
       "      <td>...</td>\n",
       "      <td>...</td>\n",
       "    </tr>\n",
       "    <tr>\n",
       "      <th>29446</th>\n",
       "      <td>1</td>\n",
       "      <td>4b6d8173b31fd14c1c4b826973c31568</td>\n",
       "    </tr>\n",
       "    <tr>\n",
       "      <th>29447</th>\n",
       "      <td>1</td>\n",
       "      <td>a5001772ac74d2fe07a2dcca336077c8</td>\n",
       "    </tr>\n",
       "    <tr>\n",
       "      <th>29448</th>\n",
       "      <td>1</td>\n",
       "      <td>9e5a62ba153267a922867dc8fd3cb287</td>\n",
       "    </tr>\n",
       "    <tr>\n",
       "      <th>29449</th>\n",
       "      <td>0</td>\n",
       "      <td>30bbf834f9d9b35e15824033e896b88c</td>\n",
       "    </tr>\n",
       "    <tr>\n",
       "      <th>29450</th>\n",
       "      <td>0</td>\n",
       "      <td>d6dcc478e63a901a8d555be370eb6ae3</td>\n",
       "    </tr>\n",
       "  </tbody>\n",
       "</table>\n",
       "<p>29451 rows × 2 columns</p>\n",
       "</div>"
      ],
      "text/plain": [
       "       0                         review_id\n",
       "0      1  ca066ddee5978b04ecbd8b7155b21291\n",
       "1      1  0e1059a405261feda792621aa2d0699a\n",
       "2      0  99e00d2ab2ed39968f74115fbaabc561\n",
       "3      1  4dbb0787588f28909efbc886f439aa59\n",
       "4      1  c5489f52b234482f5e4a784c518b33c1\n",
       "...   ..                               ...\n",
       "29446  1  4b6d8173b31fd14c1c4b826973c31568\n",
       "29447  1  a5001772ac74d2fe07a2dcca336077c8\n",
       "29448  1  9e5a62ba153267a922867dc8fd3cb287\n",
       "29449  0  30bbf834f9d9b35e15824033e896b88c\n",
       "29450  0  d6dcc478e63a901a8d555be370eb6ae3\n",
       "\n",
       "[29451 rows x 2 columns]"
      ]
     },
     "execution_count": 30,
     "metadata": {},
     "output_type": "execute_result"
    }
   ],
   "source": [
    "df_rf_resultado"
   ]
  },
  {
   "cell_type": "code",
   "execution_count": 31,
   "id": "a2c808a0",
   "metadata": {},
   "outputs": [
    {
     "name": "stdout",
     "output_type": "stream",
     "text": [
      "()\n"
     ]
    }
   ],
   "source": [
    "conn = redshift_connector.connect(\n",
    "     host='redshift-cluster-1.cpop3m8tfd5a.us-east-1.redshift.amazonaws.com',\n",
    "     database='olistdb',\n",
    "     port=5439,\n",
    "     user='awsuser',\n",
    "     password='JldMVsOw&7xL'\n",
    "  )\n",
    "conn.autocommit = True\n",
    "cursor = conn.cursor()\n",
    "\n",
    "with conn.cursor() as cursor:\n",
    "    cursor.execute('DROP TABLE IF EXISTS \"public\".\"ml_rf_resultados\";')\n",
    "    cursor.execute('CREATE TABLE \"public\".\"ml_rf_resultados\"(prediccion varchar(255), review_id character varying(256));')\n",
    "    cursor.execute('SELECT * FROM \"public\".\"ml_rf_resultados\";')\n",
    "    result = cursor.fetchall()\n",
    "    \n",
    "cursor.close()\n",
    "conn.close()\n",
    "print(result)\n",
    "###\n",
    "#with conn.cursor() as cursor:\n",
    "    #cursor.write_dataframe(df_rf_resultado, \"ML_rf_resultados\")\n",
    "    #cursor.execute('SELECT * FROM \"olistdb\".\"public\".\"ML_rf_resultados\";')\n",
    "    #result: pd.DataFrame = cursor.fetch_dataframe()"
   ]
  },
  {
   "cell_type": "code",
   "execution_count": 36,
   "id": "5064c0d8",
   "metadata": {},
   "outputs": [
    {
     "name": "stdout",
     "output_type": "stream",
     "text": [
      "      prediccion                         review_id\n",
      "0              1  ca066ddee5978b04ecbd8b7155b21291\n",
      "1              0  99e00d2ab2ed39968f74115fbaabc561\n",
      "2              1  c5489f52b234482f5e4a784c518b33c1\n",
      "3              1  f6a499caf9f7778cb7144a4b05ebfb50\n",
      "4              0  c2fbe0703e013c3fe9d017cb9425415c\n",
      "...          ...                               ...\n",
      "29446          1  590036ec3cb186b264cf6338059fdcfe\n",
      "29447          1  a961869480b9217c62542f7a512caf0d\n",
      "29448          1  fc5dd4e8b72d4693a5ad73cb6d8d0fee\n",
      "29449          1  4b6d8173b31fd14c1c4b826973c31568\n",
      "29450          1  9e5a62ba153267a922867dc8fd3cb287\n",
      "\n",
      "[29451 rows x 2 columns]\n"
     ]
    }
   ],
   "source": [
    "conn = redshift_connector.connect(\n",
    "     host='redshift-cluster-1.cpop3m8tfd5a.us-east-1.redshift.amazonaws.com',\n",
    "     database='olistdb',\n",
    "     port=5439,\n",
    "     user='awsuser',\n",
    "     password='JldMVsOw&7xL'\n",
    "  )\n",
    "conn.autocommit = True\n",
    "cursor = conn.cursor()\n",
    "\n",
    "with conn.cursor() as cursor:\n",
    "    cursor.write_dataframe(df_rf_resultado, 'ml_rf_resultados')\n",
    "    cursor.execute('SELECT * FROM \"public\".\"ml_rf_resultados\";')\n",
    "    result = cursor.fetch_dataframe()\n",
    "\n",
    "cursor.close()\n",
    "conn.close()\n",
    "print(result)"
   ]
  },
  {
   "cell_type": "code",
   "execution_count": null,
   "id": "093f23b8-fe25-4d49-b2b2-b247fe2bf400",
   "metadata": {},
   "outputs": [],
   "source": []
  }
 ],
 "metadata": {
  "kernelspec": {
   "display_name": "Python 3.9.6 64-bit",
   "language": "python",
   "name": "python3"
  },
  "language_info": {
   "codemirror_mode": {
    "name": "ipython",
    "version": 3
   },
   "file_extension": ".py",
   "mimetype": "text/x-python",
   "name": "python",
   "nbconvert_exporter": "python",
   "pygments_lexer": "ipython3",
   "version": "3.9.6"
  },
  "vscode": {
   "interpreter": {
    "hash": "31f2aee4e71d21fbe5cf8b01ff0e069b9275f58929596ceb00d14d90e3e16cd6"
   }
  }
 },
 "nbformat": 4,
 "nbformat_minor": 5
}
