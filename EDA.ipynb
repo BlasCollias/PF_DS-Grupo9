{
 "cells": [
  {
   "cell_type": "code",
   "execution_count": 2,
   "metadata": {},
   "outputs": [],
   "source": [
    "import pandas as pd\n",
    "import numpy as np"
   ]
  },
  {
   "cell_type": "code",
   "execution_count": 3,
   "metadata": {},
   "outputs": [],
   "source": [
    "df_olist_closed_list = pd.read_csv('Datasets/olist_closed_deals_dataset.csv')\n",
    "df_customers_datasets = pd.read_csv('Datasets/olist_customers_dataset.csv')\n",
    "df_olist_geolocation_dataset = pd.read_csv('Datasets/olist_geolocation_dataset.csv')\n",
    "df_olist_marketing_qualified_leads_dataset = pd.read_csv('Datasets/olist_marketing_qualified_leads_dataset.csv')\n",
    "df_olist_order_items_dataset = pd.read_csv('Datasets/olist_order_items_dataset.csv')\n",
    "df_olist_order_payments_dataset = pd.read_csv('Datasets/olist_order_payments_dataset.csv')\n",
    "df_olist_order_reviews_dataset = pd.read_csv('Datasets/olist_order_reviews_dataset.csv')\n",
    "df_olist_orders_dataset = pd.read_csv('Datasets/olist_orders_dataset.csv')\n",
    "df_olist_products_dataset = pd.read_csv('Datasets/olist_products_dataset.csv')\n",
    "df_olist_sellers_dataset = pd.read_csv('Datasets/olist_sellers_dataset.csv')\n",
    "df_product_category_name_translationt = pd.read_csv('Datasets/product_category_name_translation.csv')"
   ]
  },
  {
   "attachments": {},
   "cell_type": "markdown",
   "metadata": {},
   "source": [
    "7"
   ]
  },
  {
   "cell_type": "code",
   "execution_count": 73,
   "metadata": {},
   "outputs": [
    {
     "data": {
      "text/plain": [
       "review_id                      0\n",
       "order_id                       0\n",
       "review_score                   0\n",
       "review_comment_title       87656\n",
       "review_comment_message     58247\n",
       "review_creation_date           0\n",
       "review_answer_timestamp        0\n",
       "dtype: int64"
      ]
     },
     "execution_count": 73,
     "metadata": {},
     "output_type": "execute_result"
    }
   ],
   "source": [
    "df_olist_order_reviews_dataset.isnull().sum()"
   ]
  },
  {
   "cell_type": "code",
   "execution_count": 74,
   "metadata": {},
   "outputs": [
    {
     "name": "stdout",
     "output_type": "stream",
     "text": [
      "<class 'pandas.core.frame.DataFrame'>\n",
      "RangeIndex: 99224 entries, 0 to 99223\n",
      "Data columns (total 7 columns):\n",
      " #   Column                   Non-Null Count  Dtype \n",
      "---  ------                   --------------  ----- \n",
      " 0   review_id                99224 non-null  object\n",
      " 1   order_id                 99224 non-null  object\n",
      " 2   review_score             99224 non-null  int64 \n",
      " 3   review_comment_title     11568 non-null  object\n",
      " 4   review_comment_message   40977 non-null  object\n",
      " 5   review_creation_date     99224 non-null  object\n",
      " 6   review_answer_timestamp  99224 non-null  object\n",
      "dtypes: int64(1), object(6)\n",
      "memory usage: 5.3+ MB\n"
     ]
    }
   ],
   "source": [
    "df_olist_order_reviews_dataset.info()"
   ]
  },
  {
   "cell_type": "code",
   "execution_count": 77,
   "metadata": {},
   "outputs": [
    {
     "data": {
      "text/plain": [
       "7b606b0d57b078384f0b58eac1d41d78    3\n",
       "dbdf1ea31790c8ecfcc6750525661a9b    3\n",
       "32415bbf6e341d5d517080a796f79b5c    3\n",
       "0c76e7a547a531e7bf9f0b99cba071c1    3\n",
       "4219a80ab469e3fc9901437b73da3f75    3\n",
       "                                   ..\n",
       "95e01591b0e69a2fab382b0c562d4e20    1\n",
       "93611e0327d6a1769d1e68cf3caa242d    1\n",
       "983c47de74278257f99c4b918fd380f1    1\n",
       "ca475b77fcc618551ef9d516c3f61b88    1\n",
       "efe49f1d6f951dd88b51e6ccd4cc548f    1\n",
       "Name: review_id, Length: 98410, dtype: int64"
      ]
     },
     "execution_count": 77,
     "metadata": {},
     "output_type": "execute_result"
    }
   ],
   "source": [
    "df_olist_order_reviews_dataset['review_id'].value_counts(ascending=False)"
   ]
  },
  {
   "cell_type": "code",
   "execution_count": 78,
   "metadata": {},
   "outputs": [
    {
     "data": {
      "text/plain": [
       "c88b1d1b157a9999ce368f218a407141    3\n",
       "8e17072ec97ce29f0e1f111e598b0c85    3\n",
       "df56136b8031ecd28e200bb18e6ddb2e    3\n",
       "03c939fd7fd3b38f8485a0f95798f1f6    3\n",
       "5cb890a68b91b6158d69257e4e2bc359    2\n",
       "                                   ..\n",
       "5b4e9a12d219f34f5c2de9f8d620b19d    1\n",
       "a6da096d974acc000962856d7386448a    1\n",
       "75e0647c26de647eca3421e9cc66c9da    1\n",
       "bad0467c52f23cdc71e9fa139d4a8afd    1\n",
       "90531360ecb1eec2a1fbb265a0db0508    1\n",
       "Name: order_id, Length: 98673, dtype: int64"
      ]
     },
     "execution_count": 78,
     "metadata": {},
     "output_type": "execute_result"
    }
   ],
   "source": [
    "df_olist_order_reviews_dataset['order_id'].value_counts(ascending=False)"
   ]
  },
  {
   "cell_type": "code",
   "execution_count": 79,
   "metadata": {},
   "outputs": [
    {
     "data": {
      "text/plain": [
       "5    57328\n",
       "4    19142\n",
       "1    11424\n",
       "3     8179\n",
       "2     3151\n",
       "Name: review_score, dtype: int64"
      ]
     },
     "execution_count": 79,
     "metadata": {},
     "output_type": "execute_result"
    }
   ],
   "source": [
    "df_olist_order_reviews_dataset['review_score'].value_counts(ascending=False)"
   ]
  },
  {
   "cell_type": "code",
   "execution_count": 76,
   "metadata": {},
   "outputs": [
    {
     "data": {
      "text/plain": [
       "Recomendo                    423\n",
       "recomendo                    345\n",
       "Bom                          293\n",
       "super recomendo              270\n",
       "Excelente                    248\n",
       "                            ... \n",
       "Luminaria sobrepor led 18      1\n",
       "Não recebi.                    1\n",
       "produto com lacre violado      1\n",
       "Atraso Entrega                 1\n",
       "Foto enganosa                  1\n",
       "Name: review_comment_title, Length: 4527, dtype: int64"
      ]
     },
     "execution_count": 76,
     "metadata": {},
     "output_type": "execute_result"
    }
   ],
   "source": [
    "df_olist_order_reviews_dataset['review_comment_title'].value_counts(ascending=False)"
   ]
  },
  {
   "cell_type": "code",
   "execution_count": 80,
   "metadata": {},
   "outputs": [
    {
     "data": {
      "text/plain": [
       "Muito bom                                                                                                                                                                                              230\n",
       "Bom                                                                                                                                                                                                    189\n",
       "muito bom                                                                                                                                                                                              122\n",
       "bom                                                                                                                                                                                                    107\n",
       "Recomendo                                                                                                                                                                                              100\n",
       "                                                                                                                                                                                                      ... \n",
       "PRODUTO FOI ENTREGUE VIA CORREIOS\\r\\nANTES DO PRAZO PREVISTO.                                                                                                                                            1\n",
       "Devido incompatibilidade vou devolver, ótimo produto!                                                                                                                                                    1\n",
       "Infelizmente não! A qualidade do produto não agradou.Impressão da foto em exposição remete a um tamanho maior e a recebida sequer atende a uma criança. PRODUTO NÃO JUSTIFICA O VALOR INFELIZMENTE!      1\n",
       "entrega na data prevista,somente a qualidade do material não é o mesmo que eu pensava mas pelo preço ta valido                                                                                           1\n",
       "meu produto chegou e ja tenho que devolver, pois está com defeito , não segurar carga                                                                                                                    1\n",
       "Name: review_comment_message, Length: 36159, dtype: int64"
      ]
     },
     "execution_count": 80,
     "metadata": {},
     "output_type": "execute_result"
    }
   ],
   "source": [
    "df_olist_order_reviews_dataset['review_comment_message'].value_counts(ascending=False)"
   ]
  },
  {
   "cell_type": "code",
   "execution_count": 81,
   "metadata": {},
   "outputs": [
    {
     "data": {
      "text/plain": [
       "2017-12-19 00:00:00    463\n",
       "2018-08-28 00:00:00    452\n",
       "2017-12-20 00:00:00    440\n",
       "2018-05-19 00:00:00    434\n",
       "2018-05-15 00:00:00    425\n",
       "                      ... \n",
       "2016-10-23 00:00:00      1\n",
       "2017-03-27 00:00:00      1\n",
       "2016-10-06 00:00:00      1\n",
       "2018-07-23 00:00:00      1\n",
       "2017-01-04 00:00:00      1\n",
       "Name: review_creation_date, Length: 636, dtype: int64"
      ]
     },
     "execution_count": 81,
     "metadata": {},
     "output_type": "execute_result"
    }
   ],
   "source": [
    "df_olist_order_reviews_dataset['review_creation_date'].value_counts(ascending=False)"
   ]
  },
  {
   "cell_type": "code",
   "execution_count": 82,
   "metadata": {},
   "outputs": [
    {
     "data": {
      "text/plain": [
       "2017-06-15 23:21:05    4\n",
       "2018-02-26 15:53:18    3\n",
       "2018-04-07 21:13:05    3\n",
       "2017-02-21 23:30:22    3\n",
       "2017-08-12 14:35:35    3\n",
       "                      ..\n",
       "2018-08-20 12:43:33    1\n",
       "2018-01-16 20:42:07    1\n",
       "2018-05-13 13:19:11    1\n",
       "2018-03-19 12:59:37    1\n",
       "2017-07-03 21:01:49    1\n",
       "Name: review_answer_timestamp, Length: 98248, dtype: int64"
      ]
     },
     "execution_count": 82,
     "metadata": {},
     "output_type": "execute_result"
    }
   ],
   "source": [
    "df_olist_order_reviews_dataset['review_answer_timestamp'].value_counts(ascending=False)"
   ]
  },
  {
   "attachments": {},
   "cell_type": "markdown",
   "metadata": {},
   "source": [
    "8"
   ]
  },
  {
   "cell_type": "code",
   "execution_count": 63,
   "metadata": {},
   "outputs": [
    {
     "data": {
      "text/plain": [
       "order_id                            0\n",
       "customer_id                         0\n",
       "order_status                        0\n",
       "order_purchase_timestamp            0\n",
       "order_approved_at                 160\n",
       "order_delivered_carrier_date     1783\n",
       "order_delivered_customer_date    2965\n",
       "order_estimated_delivery_date       0\n",
       "dtype: int64"
      ]
     },
     "execution_count": 63,
     "metadata": {},
     "output_type": "execute_result"
    }
   ],
   "source": [
    "df_olist_orders_dataset.isnull().sum()"
   ]
  },
  {
   "cell_type": "code",
   "execution_count": 64,
   "metadata": {},
   "outputs": [
    {
     "name": "stdout",
     "output_type": "stream",
     "text": [
      "<class 'pandas.core.frame.DataFrame'>\n",
      "RangeIndex: 99441 entries, 0 to 99440\n",
      "Data columns (total 8 columns):\n",
      " #   Column                         Non-Null Count  Dtype \n",
      "---  ------                         --------------  ----- \n",
      " 0   order_id                       99441 non-null  object\n",
      " 1   customer_id                    99441 non-null  object\n",
      " 2   order_status                   99441 non-null  object\n",
      " 3   order_purchase_timestamp       99441 non-null  object\n",
      " 4   order_approved_at              99281 non-null  object\n",
      " 5   order_delivered_carrier_date   97658 non-null  object\n",
      " 6   order_delivered_customer_date  96476 non-null  object\n",
      " 7   order_estimated_delivery_date  99441 non-null  object\n",
      "dtypes: object(8)\n",
      "memory usage: 6.1+ MB\n"
     ]
    }
   ],
   "source": [
    "df_olist_orders_dataset.info()"
   ]
  },
  {
   "cell_type": "code",
   "execution_count": 65,
   "metadata": {},
   "outputs": [
    {
     "data": {
      "text/plain": [
       "e481f51cbdc54678b7cc49136f2d6af7    1\n",
       "f01059d0d674e1282df4e8fbbe015aa2    1\n",
       "fbc17f0f2a2125054d5ac5c22d2d5120    1\n",
       "9373150545066777b1cd2bc20e93cf8e    1\n",
       "917399e96f92268dfa2c0351b1b75fba    1\n",
       "                                   ..\n",
       "6b8986012d61963295ffa3ea869aff86    1\n",
       "be879f757debd3b384b540daa6ddd97e    1\n",
       "ac3ce7eda1246f39509a505242fcc169    1\n",
       "e801a93b3904ca9e8350f176a037047b    1\n",
       "66dea50a8b16d9b4dee7af250b4be1a5    1\n",
       "Name: order_id, Length: 99441, dtype: int64"
      ]
     },
     "execution_count": 65,
     "metadata": {},
     "output_type": "execute_result"
    }
   ],
   "source": [
    "df_olist_orders_dataset['order_id'].value_counts(ascending=False)"
   ]
  },
  {
   "cell_type": "code",
   "execution_count": 66,
   "metadata": {},
   "outputs": [
    {
     "data": {
      "text/plain": [
       "9ef432eb6251297304e76186b10a928d    1\n",
       "413f7e58270a32396af030a075b924be    1\n",
       "eb4350b67a0264c67e5e06a038e4afbb    1\n",
       "622b07d262d545d16efbd4363a89cb91    1\n",
       "c701fbfa77791abd05eef9eacf7ea7a8    1\n",
       "                                   ..\n",
       "39585f08d13377e50fde35467984e6eb    1\n",
       "eb3d995301c320683de629f5b4dd0c78    1\n",
       "f2507ea56d748a23037bb1214964e87d    1\n",
       "ae8269d850cd3a3d06a56877c450b3f8    1\n",
       "edb027a75a1449115f6b43211ae02a24    1\n",
       "Name: customer_id, Length: 99441, dtype: int64"
      ]
     },
     "execution_count": 66,
     "metadata": {},
     "output_type": "execute_result"
    }
   ],
   "source": [
    "df_olist_orders_dataset['customer_id'].value_counts(ascending=False)"
   ]
  },
  {
   "cell_type": "code",
   "execution_count": 67,
   "metadata": {},
   "outputs": [
    {
     "data": {
      "text/plain": [
       "delivered      96478\n",
       "shipped         1107\n",
       "canceled         625\n",
       "unavailable      609\n",
       "invoiced         314\n",
       "processing       301\n",
       "created            5\n",
       "approved           2\n",
       "Name: order_status, dtype: int64"
      ]
     },
     "execution_count": 67,
     "metadata": {},
     "output_type": "execute_result"
    }
   ],
   "source": [
    "df_olist_orders_dataset['order_status'].value_counts(ascending=False)"
   ]
  },
  {
   "cell_type": "code",
   "execution_count": 68,
   "metadata": {},
   "outputs": [
    {
     "data": {
      "text/plain": [
       "2018-04-11 10:48:14    3\n",
       "2018-07-28 13:11:22    3\n",
       "2017-11-20 10:59:08    3\n",
       "2018-08-02 12:05:26    3\n",
       "2018-08-02 12:06:09    3\n",
       "                      ..\n",
       "2018-07-14 19:23:47    1\n",
       "2018-05-10 16:08:05    1\n",
       "2017-11-28 10:46:46    1\n",
       "2018-03-17 23:46:08    1\n",
       "2018-03-08 20:57:30    1\n",
       "Name: order_purchase_timestamp, Length: 98875, dtype: int64"
      ]
     },
     "execution_count": 68,
     "metadata": {},
     "output_type": "execute_result"
    }
   ],
   "source": [
    "df_olist_orders_dataset['order_purchase_timestamp'].value_counts(ascending=False)"
   ]
  },
  {
   "cell_type": "code",
   "execution_count": 69,
   "metadata": {},
   "outputs": [
    {
     "data": {
      "text/plain": [
       "2018-02-27 04:31:10    9\n",
       "2017-11-07 07:30:38    7\n",
       "2018-02-27 04:31:01    7\n",
       "2018-02-06 05:31:52    7\n",
       "2017-11-07 07:30:29    7\n",
       "                      ..\n",
       "2018-08-22 11:50:14    1\n",
       "2017-09-22 11:27:36    1\n",
       "2018-03-07 16:40:32    1\n",
       "2017-08-08 10:50:15    1\n",
       "2018-03-09 11:20:28    1\n",
       "Name: order_approved_at, Length: 90733, dtype: int64"
      ]
     },
     "execution_count": 69,
     "metadata": {},
     "output_type": "execute_result"
    }
   ],
   "source": [
    "df_olist_orders_dataset['order_approved_at'].value_counts(ascending=False)"
   ]
  },
  {
   "cell_type": "code",
   "execution_count": 70,
   "metadata": {},
   "outputs": [
    {
     "data": {
      "text/plain": [
       "2018-05-09 15:48:00    47\n",
       "2018-05-10 18:29:00    32\n",
       "2018-05-07 12:31:00    21\n",
       "2018-05-02 15:15:00    16\n",
       "2018-07-24 16:07:00    16\n",
       "                       ..\n",
       "2018-01-03 17:37:21     1\n",
       "2017-10-27 20:07:58     1\n",
       "2017-11-21 18:57:37     1\n",
       "2018-03-21 20:03:37     1\n",
       "2018-03-09 22:11:59     1\n",
       "Name: order_delivered_carrier_date, Length: 81018, dtype: int64"
      ]
     },
     "execution_count": 70,
     "metadata": {},
     "output_type": "execute_result"
    }
   ],
   "source": [
    "df_olist_orders_dataset['order_delivered_carrier_date'].value_counts(ascending=False)"
   ]
  },
  {
   "cell_type": "code",
   "execution_count": 71,
   "metadata": {},
   "outputs": [
    {
     "data": {
      "text/plain": [
       "2018-05-08 23:38:46    3\n",
       "2016-10-27 17:32:07    3\n",
       "2018-02-14 21:09:19    3\n",
       "2017-06-19 18:47:51    3\n",
       "2018-05-08 19:36:48    3\n",
       "                      ..\n",
       "2018-07-12 17:48:45    1\n",
       "2018-05-18 18:24:36    1\n",
       "2018-01-17 13:29:13    1\n",
       "2018-06-29 11:21:34    1\n",
       "2018-03-16 13:08:30    1\n",
       "Name: order_delivered_customer_date, Length: 95664, dtype: int64"
      ]
     },
     "execution_count": 71,
     "metadata": {},
     "output_type": "execute_result"
    }
   ],
   "source": [
    "df_olist_orders_dataset['order_delivered_customer_date'].value_counts(ascending=False)"
   ]
  },
  {
   "cell_type": "code",
   "execution_count": 72,
   "metadata": {},
   "outputs": [
    {
     "data": {
      "text/plain": [
       "2017-12-20 00:00:00    522\n",
       "2018-03-12 00:00:00    516\n",
       "2018-05-29 00:00:00    513\n",
       "2018-03-13 00:00:00    513\n",
       "2018-02-14 00:00:00    507\n",
       "                      ... \n",
       "2016-11-14 00:00:00      1\n",
       "2016-11-07 00:00:00      1\n",
       "2016-09-30 00:00:00      1\n",
       "2016-10-28 00:00:00      1\n",
       "2016-10-27 00:00:00      1\n",
       "Name: order_estimated_delivery_date, Length: 459, dtype: int64"
      ]
     },
     "execution_count": 72,
     "metadata": {},
     "output_type": "execute_result"
    }
   ],
   "source": [
    "df_olist_orders_dataset['order_estimated_delivery_date'].value_counts(ascending=False)"
   ]
  },
  {
   "attachments": {},
   "cell_type": "markdown",
   "metadata": {},
   "source": [
    "9"
   ]
  },
  {
   "cell_type": "code",
   "execution_count": 47,
   "metadata": {},
   "outputs": [
    {
     "data": {
      "text/plain": [
       "product_id                      0\n",
       "product_category_name         610\n",
       "product_name_lenght           610\n",
       "product_description_lenght    610\n",
       "product_photos_qty            610\n",
       "product_weight_g                2\n",
       "product_length_cm               2\n",
       "product_height_cm               2\n",
       "product_width_cm                2\n",
       "dtype: int64"
      ]
     },
     "execution_count": 47,
     "metadata": {},
     "output_type": "execute_result"
    }
   ],
   "source": [
    "df_olist_products_dataset.isnull().sum()"
   ]
  },
  {
   "cell_type": "code",
   "execution_count": 50,
   "metadata": {},
   "outputs": [
    {
     "name": "stdout",
     "output_type": "stream",
     "text": [
      "<class 'pandas.core.frame.DataFrame'>\n",
      "RangeIndex: 32951 entries, 0 to 32950\n",
      "Data columns (total 9 columns):\n",
      " #   Column                      Non-Null Count  Dtype  \n",
      "---  ------                      --------------  -----  \n",
      " 0   product_id                  32951 non-null  object \n",
      " 1   product_category_name       32341 non-null  object \n",
      " 2   product_name_lenght         32341 non-null  float64\n",
      " 3   product_description_lenght  32341 non-null  float64\n",
      " 4   product_photos_qty          32341 non-null  float64\n",
      " 5   product_weight_g            32949 non-null  float64\n",
      " 6   product_length_cm           32949 non-null  float64\n",
      " 7   product_height_cm           32949 non-null  float64\n",
      " 8   product_width_cm            32949 non-null  float64\n",
      "dtypes: float64(7), object(2)\n",
      "memory usage: 2.3+ MB\n"
     ]
    }
   ],
   "source": [
    "df_olist_products_dataset.info()"
   ]
  },
  {
   "cell_type": "code",
   "execution_count": 54,
   "metadata": {},
   "outputs": [
    {
     "data": {
      "text/plain": [
       "1e9e8ef04dbcff4541ed26657ea517e5    1\n",
       "d05cc9afc85771f597cf4bc9d8f12546    1\n",
       "71b7afd92c42feab780d5ea512fc7348    1\n",
       "5c5f3e091101bea69642eb3dd145b17d    1\n",
       "16d47089f9bc7f16de16cc4bd3b9dd49    1\n",
       "                                   ..\n",
       "c154987c6780d1a2b579aae00e53485f    1\n",
       "1a6c9da4039deae58c2b769f049ae121    1\n",
       "4cb35e544a1de008f37e069f172f964e    1\n",
       "b34b2c889f5b26963569cf421254e121    1\n",
       "106392145fca363410d287a815be6de4    1\n",
       "Name: product_id, Length: 32951, dtype: int64"
      ]
     },
     "execution_count": 54,
     "metadata": {},
     "output_type": "execute_result"
    }
   ],
   "source": [
    "df_olist_products_dataset['product_id'].value_counts(ascending=False)"
   ]
  },
  {
   "cell_type": "code",
   "execution_count": 55,
   "metadata": {},
   "outputs": [
    {
     "data": {
      "text/plain": [
       "cama_mesa_banho                  3029\n",
       "esporte_lazer                    2867\n",
       "moveis_decoracao                 2657\n",
       "beleza_saude                     2444\n",
       "utilidades_domesticas            2335\n",
       "                                 ... \n",
       "fashion_roupa_infanto_juvenil       5\n",
       "casa_conforto_2                     5\n",
       "pc_gamer                            3\n",
       "seguros_e_servicos                  2\n",
       "cds_dvds_musicais                   1\n",
       "Name: product_category_name, Length: 73, dtype: int64"
      ]
     },
     "execution_count": 55,
     "metadata": {},
     "output_type": "execute_result"
    }
   ],
   "source": [
    "df_olist_products_dataset['product_category_name'].value_counts(ascending=False)"
   ]
  },
  {
   "cell_type": "code",
   "execution_count": 56,
   "metadata": {},
   "outputs": [
    {
     "data": {
      "text/plain": [
       "60.0    2182\n",
       "59.0    2025\n",
       "58.0    1887\n",
       "57.0    1719\n",
       "55.0    1683\n",
       "        ... \n",
       "66.0       1\n",
       "72.0       1\n",
       "67.0       1\n",
       "76.0       1\n",
       "6.0        1\n",
       "Name: product_name_lenght, Length: 66, dtype: int64"
      ]
     },
     "execution_count": 56,
     "metadata": {},
     "output_type": "execute_result"
    }
   ],
   "source": [
    "df_olist_products_dataset['product_name_lenght'].value_counts(ascending=False)"
   ]
  },
  {
   "cell_type": "code",
   "execution_count": 57,
   "metadata": {},
   "outputs": [
    {
     "data": {
      "text/plain": [
       "404.0     94\n",
       "729.0     86\n",
       "651.0     66\n",
       "703.0     66\n",
       "236.0     65\n",
       "          ..\n",
       "2795.0     1\n",
       "2308.0     1\n",
       "3698.0     1\n",
       "3522.0     1\n",
       "2207.0     1\n",
       "Name: product_description_lenght, Length: 2960, dtype: int64"
      ]
     },
     "execution_count": 57,
     "metadata": {},
     "output_type": "execute_result"
    }
   ],
   "source": [
    "df_olist_products_dataset['product_description_lenght'].value_counts(ascending=False)"
   ]
  },
  {
   "cell_type": "code",
   "execution_count": 58,
   "metadata": {},
   "outputs": [
    {
     "data": {
      "text/plain": [
       "1.0     16489\n",
       "2.0      6263\n",
       "3.0      3860\n",
       "4.0      2428\n",
       "5.0      1484\n",
       "6.0       968\n",
       "7.0       343\n",
       "8.0       192\n",
       "9.0       105\n",
       "10.0       95\n",
       "11.0       46\n",
       "12.0       35\n",
       "13.0        9\n",
       "15.0        8\n",
       "17.0        7\n",
       "14.0        5\n",
       "18.0        2\n",
       "20.0        1\n",
       "19.0        1\n",
       "Name: product_photos_qty, dtype: int64"
      ]
     },
     "execution_count": 58,
     "metadata": {},
     "output_type": "execute_result"
    }
   ],
   "source": [
    "df_olist_products_dataset['product_photos_qty'].value_counts(ascending=False)"
   ]
  },
  {
   "cell_type": "code",
   "execution_count": 59,
   "metadata": {},
   "outputs": [
    {
     "data": {
      "text/plain": [
       "200.0     2084\n",
       "300.0     1561\n",
       "150.0     1259\n",
       "400.0     1206\n",
       "100.0     1188\n",
       "          ... \n",
       "6075.0       1\n",
       "822.0        1\n",
       "631.0        1\n",
       "2925.0       1\n",
       "1920.0       1\n",
       "Name: product_weight_g, Length: 2204, dtype: int64"
      ]
     },
     "execution_count": 59,
     "metadata": {},
     "output_type": "execute_result"
    }
   ],
   "source": [
    "df_olist_products_dataset['product_weight_g'].value_counts(ascending=False)"
   ]
  },
  {
   "cell_type": "code",
   "execution_count": 60,
   "metadata": {},
   "outputs": [
    {
     "data": {
      "text/plain": [
       "16.0    5520\n",
       "20.0    2816\n",
       "30.0    2029\n",
       "18.0    1502\n",
       "25.0    1387\n",
       "        ... \n",
       "96.0       4\n",
       "10.0       3\n",
       "8.0        2\n",
       "9.0        2\n",
       "7.0        1\n",
       "Name: product_length_cm, Length: 99, dtype: int64"
      ]
     },
     "execution_count": 60,
     "metadata": {},
     "output_type": "execute_result"
    }
   ],
   "source": [
    "df_olist_products_dataset['product_length_cm'].value_counts(ascending=False)"
   ]
  },
  {
   "cell_type": "code",
   "execution_count": 61,
   "metadata": {},
   "outputs": [
    {
     "data": {
      "text/plain": [
       "10.0    2548\n",
       "15.0    2022\n",
       "20.0    1991\n",
       "16.0    1595\n",
       "11.0    1551\n",
       "        ... \n",
       "98.0       2\n",
       "97.0       2\n",
       "99.0       1\n",
       "89.0       1\n",
       "94.0       1\n",
       "Name: product_height_cm, Length: 102, dtype: int64"
      ]
     },
     "execution_count": 61,
     "metadata": {},
     "output_type": "execute_result"
    }
   ],
   "source": [
    "df_olist_products_dataset['product_height_cm'].value_counts(ascending=False)"
   ]
  },
  {
   "cell_type": "code",
   "execution_count": 62,
   "metadata": {},
   "outputs": [
    {
     "data": {
      "text/plain": [
       "11.0     3718\n",
       "20.0     3053\n",
       "16.0     2808\n",
       "15.0     2393\n",
       "30.0     1786\n",
       "         ... \n",
       "103.0       1\n",
       "86.0        1\n",
       "98.0        1\n",
       "87.0        1\n",
       "104.0       1\n",
       "Name: product_width_cm, Length: 95, dtype: int64"
      ]
     },
     "execution_count": 62,
     "metadata": {},
     "output_type": "execute_result"
    }
   ],
   "source": [
    "df_olist_products_dataset['product_width_cm'].value_counts(ascending=False)"
   ]
  },
  {
   "attachments": {},
   "cell_type": "markdown",
   "metadata": {},
   "source": [
    "10"
   ]
  },
  {
   "cell_type": "code",
   "execution_count": 39,
   "metadata": {},
   "outputs": [
    {
     "data": {
      "text/plain": [
       "seller_id                 0\n",
       "seller_zip_code_prefix    0\n",
       "seller_city               0\n",
       "seller_state              0\n",
       "dtype: int64"
      ]
     },
     "execution_count": 39,
     "metadata": {},
     "output_type": "execute_result"
    }
   ],
   "source": [
    "df_olist_sellers_dataset.isnull().sum()"
   ]
  },
  {
   "cell_type": "code",
   "execution_count": 40,
   "metadata": {},
   "outputs": [
    {
     "data": {
      "text/plain": [
       "seller_id                 object\n",
       "seller_zip_code_prefix     int64\n",
       "seller_city               object\n",
       "seller_state              object\n",
       "dtype: object"
      ]
     },
     "execution_count": 40,
     "metadata": {},
     "output_type": "execute_result"
    }
   ],
   "source": [
    "df_olist_sellers_dataset.dtypes"
   ]
  },
  {
   "cell_type": "code",
   "execution_count": 41,
   "metadata": {},
   "outputs": [
    {
     "data": {
      "text/plain": [
       "seller_id                 3095\n",
       "seller_zip_code_prefix    3095\n",
       "seller_city               3095\n",
       "seller_state              3095\n",
       "dtype: int64"
      ]
     },
     "execution_count": 41,
     "metadata": {},
     "output_type": "execute_result"
    }
   ],
   "source": [
    "df_olist_sellers_dataset.count()"
   ]
  },
  {
   "cell_type": "code",
   "execution_count": 42,
   "metadata": {},
   "outputs": [
    {
     "data": {
      "text/plain": [
       "3442f8959a84dea7ee197c632cb2df15    1\n",
       "f7ccf836d21b2fb1de37564105216cc1    1\n",
       "7e3f87d16fb353f408d467e74fbd8014    1\n",
       "9140bd1d9de28b197dce077bdd687438    1\n",
       "a2b911e9ad40dc7d61c142a4683e2d85    1\n",
       "                                   ..\n",
       "f918546be4bec7104d117789ba758b2b    1\n",
       "eb4a59a06b3948e851a7d7a830bcbc42    1\n",
       "80146bc52c4f6af5239b23de2a20262b    1\n",
       "271c58a1d139c45eaf3316107c6d3a3b    1\n",
       "9e25199f6ef7e7c347120ff175652c3b    1\n",
       "Name: seller_id, Length: 3095, dtype: int64"
      ]
     },
     "execution_count": 42,
     "metadata": {},
     "output_type": "execute_result"
    }
   ],
   "source": [
    "df_olist_sellers_dataset['seller_id'].value_counts(ascending=True)"
   ]
  },
  {
   "cell_type": "code",
   "execution_count": 43,
   "metadata": {},
   "outputs": [
    {
     "data": {
      "text/plain": [
       "14940    49\n",
       "13660    10\n",
       "13920     9\n",
       "16200     9\n",
       "87050     8\n",
       "         ..\n",
       "83707     1\n",
       "85065     1\n",
       "78552     1\n",
       "3632      1\n",
       "12051     1\n",
       "Name: seller_zip_code_prefix, Length: 2246, dtype: int64"
      ]
     },
     "execution_count": 43,
     "metadata": {},
     "output_type": "execute_result"
    }
   ],
   "source": [
    "df_olist_sellers_dataset['seller_zip_code_prefix'].value_counts(ascending=False)"
   ]
  },
  {
   "cell_type": "code",
   "execution_count": 44,
   "metadata": {},
   "outputs": [
    {
     "data": {
      "text/plain": [
       "sao paulo              694\n",
       "curitiba               127\n",
       "rio de janeiro          96\n",
       "belo horizonte          68\n",
       "ribeirao preto          52\n",
       "                      ... \n",
       "taruma                   1\n",
       "s jose do rio preto      1\n",
       "domingos martins         1\n",
       "messias targino          1\n",
       "leme                     1\n",
       "Name: seller_city, Length: 611, dtype: int64"
      ]
     },
     "execution_count": 44,
     "metadata": {},
     "output_type": "execute_result"
    }
   ],
   "source": [
    "df_olist_sellers_dataset['seller_city'].value_counts(ascending=False)"
   ]
  },
  {
   "cell_type": "code",
   "execution_count": 45,
   "metadata": {},
   "outputs": [
    {
     "data": {
      "text/plain": [
       "SP    1849\n",
       "PR     349\n",
       "MG     244\n",
       "SC     190\n",
       "RJ     171\n",
       "RS     129\n",
       "GO      40\n",
       "DF      30\n",
       "ES      23\n",
       "BA      19\n",
       "CE      13\n",
       "PE       9\n",
       "PB       6\n",
       "RN       5\n",
       "MS       5\n",
       "MT       4\n",
       "RO       2\n",
       "SE       2\n",
       "PI       1\n",
       "AC       1\n",
       "MA       1\n",
       "AM       1\n",
       "PA       1\n",
       "Name: seller_state, dtype: int64"
      ]
     },
     "execution_count": 45,
     "metadata": {},
     "output_type": "execute_result"
    }
   ],
   "source": [
    "df_olist_sellers_dataset['seller_state'].value_counts(ascending=False)"
   ]
  },
  {
   "attachments": {},
   "cell_type": "markdown",
   "metadata": {},
   "source": [
    "11"
   ]
  },
  {
   "cell_type": "code",
   "execution_count": 11,
   "metadata": {},
   "outputs": [
    {
     "data": {
      "text/plain": [
       "product_category_name            0\n",
       "product_category_name_english    0\n",
       "dtype: int64"
      ]
     },
     "execution_count": 11,
     "metadata": {},
     "output_type": "execute_result"
    }
   ],
   "source": [
    "df_product_category_name_translationt.isnull().sum()"
   ]
  },
  {
   "cell_type": "code",
   "execution_count": 25,
   "metadata": {},
   "outputs": [
    {
     "data": {
      "text/plain": [
       "product_category_name            object\n",
       "product_category_name_english    object\n",
       "dtype: object"
      ]
     },
     "execution_count": 25,
     "metadata": {},
     "output_type": "execute_result"
    }
   ],
   "source": [
    "df_product_category_name_translationt.dtypes"
   ]
  },
  {
   "cell_type": "code",
   "execution_count": 26,
   "metadata": {},
   "outputs": [
    {
     "data": {
      "text/plain": [
       "product_category_name            71\n",
       "product_category_name_english    71\n",
       "dtype: int64"
      ]
     },
     "execution_count": 26,
     "metadata": {},
     "output_type": "execute_result"
    }
   ],
   "source": [
    "df_product_category_name_translationt.count()"
   ]
  },
  {
   "cell_type": "code",
   "execution_count": 20,
   "metadata": {},
   "outputs": [
    {
     "data": {
      "text/plain": [
       "product_category_name            object\n",
       "product_category_name_english    object\n",
       "dtype: object"
      ]
     },
     "execution_count": 20,
     "metadata": {},
     "output_type": "execute_result"
    }
   ],
   "source": [
    "df_product_category_name_translationt.dtypes"
   ]
  },
  {
   "cell_type": "code",
   "execution_count": 9,
   "metadata": {},
   "outputs": [
    {
     "data": {
      "text/plain": [
       "beleza_saude                         1\n",
       "fashion_underwear_e_moda_praia       1\n",
       "construcao_ferramentas_seguranca     1\n",
       "livros_interesse_geral               1\n",
       "moveis_quarto                        1\n",
       "                                    ..\n",
       "fashion_calcados                     1\n",
       "audio                                1\n",
       "consoles_games                       1\n",
       "construcao_ferramentas_construcao    1\n",
       "seguros_e_servicos                   1\n",
       "Name: product_category_name, Length: 71, dtype: int64"
      ]
     },
     "execution_count": 9,
     "metadata": {},
     "output_type": "execute_result"
    }
   ],
   "source": [
    "df_product_category_name_translationt['product_category_name'].value_counts(ascending=True)"
   ]
  },
  {
   "cell_type": "code",
   "execution_count": 21,
   "metadata": {},
   "outputs": [
    {
     "data": {
      "text/plain": [
       "71"
      ]
     },
     "execution_count": 21,
     "metadata": {},
     "output_type": "execute_result"
    }
   ],
   "source": [
    "df_product_category_name_translationt['product_category_name_english'].count()"
   ]
  },
  {
   "cell_type": "code",
   "execution_count": 22,
   "metadata": {},
   "outputs": [
    {
     "data": {
      "text/plain": [
       "beleza_saude                         1\n",
       "fashion_underwear_e_moda_praia       1\n",
       "construcao_ferramentas_seguranca     1\n",
       "livros_interesse_geral               1\n",
       "moveis_quarto                        1\n",
       "                                    ..\n",
       "fashion_calcados                     1\n",
       "audio                                1\n",
       "consoles_games                       1\n",
       "construcao_ferramentas_construcao    1\n",
       "seguros_e_servicos                   1\n",
       "Name: product_category_name, Length: 71, dtype: int64"
      ]
     },
     "execution_count": 22,
     "metadata": {},
     "output_type": "execute_result"
    }
   ],
   "source": [
    "df_product_category_name_translationt['product_category_name'].value_counts(ascending=True)"
   ]
  }
 ],
 "metadata": {
  "kernelspec": {
   "display_name": "Python 3",
   "language": "python",
   "name": "python3"
  },
  "language_info": {
   "codemirror_mode": {
    "name": "ipython",
    "version": 3
   },
   "file_extension": ".py",
   "mimetype": "text/x-python",
   "name": "python",
   "nbconvert_exporter": "python",
   "pygments_lexer": "ipython3",
   "version": "3.10.5 (tags/v3.10.5:f377153, Jun  6 2022, 16:14:13) [MSC v.1929 64 bit (AMD64)]"
  },
  "orig_nbformat": 4,
  "vscode": {
   "interpreter": {
    "hash": "f7e69ca828171fa42c77f9625c144776281f474eb73a3cc5987e54164eb7a92b"
   }
  }
 },
 "nbformat": 4,
 "nbformat_minor": 2
}
